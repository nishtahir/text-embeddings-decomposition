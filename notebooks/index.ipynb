{
 "cells": [
  {
   "cell_type": "code",
   "execution_count": 4,
   "metadata": {},
   "outputs": [
    {
     "data": {
      "text/plain": [
       "True"
      ]
     },
     "execution_count": 4,
     "metadata": {},
     "output_type": "execute_result"
    }
   ],
   "source": [
    "from dotenv import load_dotenv\n",
    "\n",
    "load_dotenv()"
   ]
  },
  {
   "cell_type": "code",
   "execution_count": 5,
   "metadata": {},
   "outputs": [],
   "source": [
    "import os\n",
    "\n",
    "import matplotlib.pyplot as plt\n",
    "import numpy as np\n",
    "import openai"
   ]
  },
  {
   "cell_type": "code",
   "execution_count": 6,
   "metadata": {},
   "outputs": [
    {
     "data": {
      "text/plain": [
       "1536"
      ]
     },
     "execution_count": 6,
     "metadata": {},
     "output_type": "execute_result"
    }
   ],
   "source": [
    "openai = openai.OpenAI(api_key=os.getenv(\"OPENAI_API_KEY\"))\n",
    "\n",
    "\n",
    "def get_embedding(text):\n",
    "    return openai.embeddings.create(input=text, model=\"text-embedding-3-small\").data[0].embedding\n",
    "\n",
    "\n",
    "len(get_embedding(\"Hello, world!\"))"
   ]
  },
  {
   "cell_type": "code",
   "execution_count": 7,
   "metadata": {},
   "outputs": [
    {
     "name": "stdout",
     "output_type": "stream",
     "text": [
      "0.5999896705009601\n",
      "q1: [ 0.0051733  -0.04146346 -0.0509885  ...  0.00845315  0.00648268\n",
      "  0.01980747]\n",
      "q2: [ 0.00040794  0.00216099 -0.02947283 ...  0.00850242  0.00193413\n",
      " -0.0217786 ]\n",
      "Dot product (q1, q2): -2.740863092043355e-16\n"
     ]
    }
   ],
   "source": [
    "# Original vectors\n",
    "a = np.array(get_embedding(\"I am Happy!\"))\n",
    "b = np.array(get_embedding(\"I am Sad!\"))\n",
    "\n",
    "print(np.dot(a, b))\n",
    "\n",
    "# Step 1: Normalize a\n",
    "q1 = a / np.linalg.norm(a)\n",
    "\n",
    "# Step 2: Orthogonalize b against q1\n",
    "proj_b_q1 = np.dot(q1, b) * q1\n",
    "u2 = b - proj_b_q1\n",
    "\n",
    "# Step 3: Normalize u2\n",
    "q2 = u2 / np.linalg.norm(u2)\n",
    "\n",
    "print(\"q1:\", q1)\n",
    "print(\"q2:\", q2)\n",
    "\n",
    "# Check orthogonality (should be close to 0)\n",
    "print(\"Dot product (q1, q2):\", np.dot(q1, q2))"
   ]
  },
  {
   "cell_type": "code",
   "execution_count": 8,
   "metadata": {},
   "outputs": [
    {
     "name": "stdout",
     "output_type": "stream",
     "text": [
      "Normalized vector: [0.2672612419124244, 0.5345224838248488, 0.8017837257372732]\n"
     ]
    }
   ],
   "source": [
    "import math\n",
    "\n",
    "\n",
    "def normalize(v):\n",
    "    # Compute the length (norm) of the vector\n",
    "    norm = math.sqrt(sum(x**2 for x in v))\n",
    "\n",
    "    # Check for zero vector to avoid division by zero\n",
    "    if norm == 0:\n",
    "        raise ValueError(\"Cannot normalize a zero vector\")\n",
    "\n",
    "    # Divide each component by the norm\n",
    "    return [x / norm for x in v]\n",
    "\n",
    "\n",
    "# Example usage:\n",
    "v = [1, 2, 3]\n",
    "normalized_v = normalize(v)\n",
    "print(\"Normalized vector:\", normalized_v)"
   ]
  },
  {
   "cell_type": "code",
   "execution_count": 35,
   "metadata": {},
   "outputs": [],
   "source": [
    "def norm(v: list[float]) -> float:\n",
    "    return math.sqrt(sum(v[i] ** 2 for i in range(len(v))))\n",
    "\n",
    "\n",
    "def dot_product(v: list[float], u: list[float]) -> float:\n",
    "    # also known as the scalar product\n",
    "    # the dot product of two vectors is the sum of the products of their corresponding components\n",
    "    # v = [v1, v2, v3]\n",
    "    # u = [u1, u2, u3]\n",
    "    # dot product = v1 * u1 + v2 * u2 + v3 * u3\n",
    "    return sum(v[i] * u[i] for i in range(len(v)))\n",
    "\n",
    "\n",
    "def projection(v: list[float], u: list[float]) -> list[float]:\n",
    "    return [dot_product(v, u) / (norm(u) ** 2) * u[i] for i in range(len(u))]\n",
    "\n",
    "\n",
    "def subtract(v: list[float], u: list[float]) -> list[float]:\n",
    "    return [v[i] - u[i] for i in range(len(v))]\n",
    "\n",
    "\n",
    "def multiply(v: list[list[float]], u: list[list[float]]) -> list[list[float]]:\n",
    "    # Check if matrices can be multiplied\n",
    "    if len(v[0]) != len(u):\n",
    "        raise ValueError(\"Matrix dimensions do not match for multiplication\")\n",
    "\n",
    "    # Get dimensions\n",
    "    m = len(v)  # rows of first matrix\n",
    "    n = len(u[0])  # columns of second matrix\n",
    "    p = len(u)  # rows of second matrix\n",
    "\n",
    "    # Initialize result matrix with zeros\n",
    "    result = [[0 for _ in range(n)] for _ in range(m)]\n",
    "\n",
    "    # Perform matrix multiplication\n",
    "    for i in range(m):\n",
    "        for j in range(n):\n",
    "            for k in range(p):\n",
    "                result[i][j] += v[i][k] * u[k][j]\n",
    "\n",
    "    return result\n",
    "\n",
    "\n",
    "def add(v: list[float], u: list[float]) -> list[float]:\n",
    "    return [v[i] + u[i] for i in range(len(v))]\n",
    "\n",
    "\n",
    "def transpose(v: list[float]) -> list[float]:\n",
    "    # Check if input is empty\n",
    "    if not v:\n",
    "        return []\n",
    "\n",
    "    # Check if input is a matrix (list of lists)\n",
    "    if not isinstance(v[0], list):\n",
    "        return v\n",
    "\n",
    "    # Get dimensions\n",
    "    rows = len(v)\n",
    "    cols = len(v[0])\n",
    "\n",
    "    # Create transposed matrix\n",
    "    return [[v[j][i] for j in range(rows)] for i in range(cols)]"
   ]
  },
  {
   "cell_type": "code",
   "execution_count": 10,
   "metadata": {},
   "outputs": [
    {
     "name": "stdout",
     "output_type": "stream",
     "text": [
      "25\n",
      "[0.6, 0.8]\n",
      "1.0\n",
      "5.0\n"
     ]
    },
    {
     "data": {
      "image/png": "[encoded data removed]",
      "text/plain": [
       "<Figure size 500x500 with 1 Axes>"
      ]
     },
     "metadata": {},
     "output_type": "display_data"
    }
   ],
   "source": [
    "# Normalization process\n",
    "# goal is to make the vector have a length of 1\n",
    "\n",
    "v = [3, 4]\n",
    "\n",
    "print(dot_product(v, v))\n",
    "\n",
    "normalized_v = normalize(v)\n",
    "print(normalized_v)\n",
    "print(norm(normalized_v))\n",
    "\n",
    "print(dot_product(v, normalized_v))\n",
    "\n",
    "plt.figure(figsize=(5, 5))\n",
    "plt.quiver(0, 0, v[0], v[1], color=\"red\", scale_units=\"xy\", angles=\"xy\", scale=1)\n",
    "plt.quiver(\n",
    "    0,\n",
    "    0,\n",
    "    normalized_v[0],\n",
    "    normalized_v[1],\n",
    "    color=\"blue\",\n",
    "    scale_units=\"xy\",\n",
    "    angles=\"xy\",\n",
    "    scale=1,\n",
    ")\n",
    "plt.autoscale(False)\n",
    "plt.xlim(-1, 5)\n",
    "plt.ylim(-1, 5)\n",
    "plt.grid(True)\n",
    "plt.show()"
   ]
  },
  {
   "cell_type": "code",
   "execution_count": 11,
   "metadata": {},
   "outputs": [
    {
     "data": {
      "text/plain": [
       "(5.0, 5.0, 1.0)"
      ]
     },
     "execution_count": 11,
     "metadata": {},
     "output_type": "execute_result"
    }
   ],
   "source": [
    "dot_product(v, normalized_v), norm(v), norm(normalized_v)"
   ]
  },
  {
   "cell_type": "code",
   "execution_count": 12,
   "metadata": {},
   "outputs": [
    {
     "data": {
      "image/png": "[encoded data removed]",
      "text/plain": [
       "<Figure size 640x480 with 1 Axes>"
      ]
     },
     "metadata": {},
     "output_type": "display_data"
    }
   ],
   "source": [
    "# projection process\n",
    "# goal is to project one vector onto another\n",
    "\n",
    "v = [2, 0]\n",
    "u = [1, 1]\n",
    "\n",
    "normalized_v = normalize(v)\n",
    "\n",
    "origin = np.array([[0, 0, 0], [0, 0, 0]])  # origin point\n",
    "plt.quiver(*origin, v[0], v[1], scale=5, color=\"red\")\n",
    "plt.quiver(*origin, u[0], u[1], scale=5, color=\"blue\")\n",
    "plt.quiver(*origin, normalized_v[0], normalized_v[1], scale=5, color=\"green\")\n",
    "plt.show()"
   ]
  },
  {
   "cell_type": "code",
   "execution_count": 13,
   "metadata": {},
   "outputs": [
    {
     "data": {
      "image/png": "[encoded data removed]",
      "text/plain": [
       "<Figure size 500x500 with 1 Axes>"
      ]
     },
     "metadata": {},
     "output_type": "display_data"
    }
   ],
   "source": [
    "u = [1, 3]\n",
    "v = [4, 2]\n",
    "v_u = projection(u, v)\n",
    "\n",
    "plt.figure(figsize=(5, 5))\n",
    "plt.quiver(0, 0, v[0], v[1], color=\"red\", scale_units=\"xy\", angles=\"xy\", scale=1)\n",
    "plt.quiver(0, 0, u[0], u[1], color=\"blue\", scale_units=\"xy\", angles=\"xy\", scale=1)\n",
    "plt.quiver(0, 0, v_u[0], v_u[1], color=\"green\", scale_units=\"xy\", angles=\"xy\", scale=1)\n",
    "\n",
    "# labels\n",
    "plt.text(v[0], v[1], \"v\", fontsize=12, color=\"red\")\n",
    "plt.text(u[0], u[1], \"u\", fontsize=12, color=\"blue\")\n",
    "plt.text(v_u[0], v_u[1] - 1, \"proj(u, v)\", fontsize=12, color=\"green\")\n",
    "plt.xlim(-1, 5)\n",
    "plt.ylim(-1, 5)\n",
    "plt.grid(True)\n",
    "plt.show()"
   ]
  },
  {
   "cell_type": "code",
   "execution_count": 14,
   "metadata": {},
   "outputs": [
    {
     "name": "stdout",
     "output_type": "stream",
     "text": [
      "[1.9999999999999996, 0.9999999999999998]\n"
     ]
    }
   ],
   "source": [
    "u = [1, 3]\n",
    "v = [4, 2]\n",
    "v_u = projection(u, v)\n",
    "print(v_u)"
   ]
  },
  {
   "cell_type": "code",
   "execution_count": 16,
   "metadata": {},
   "outputs": [
    {
     "data": {
      "image/png": "[encoded data removed]",
      "text/plain": [
       "<Figure size 500x500 with 1 Axes>"
      ]
     },
     "metadata": {},
     "output_type": "display_data"
    }
   ],
   "source": [
    "m = [[1, 3], [2, 2]]\n",
    "\n",
    "a1 = m[0]\n",
    "\n",
    "# q1 is the normalized vector of a1\n",
    "q1 = normalize(a1)\n",
    "\n",
    "b = m[1]\n",
    "\n",
    "# compute the projection of b onto q1\n",
    "proj_b_q1 = projection(b, q1)\n",
    "u2 = subtract(b, proj_b_q1)\n",
    "\n",
    "q2 = normalize(u2)\n",
    "\n",
    "\n",
    "plt.figure(figsize=(5, 5))\n",
    "plt.quiver(0, 0, a1[0], a1[1], color=\"red\", scale_units=\"xy\", angles=\"xy\", scale=1)\n",
    "plt.text(a1[0], a1[1], \"a1\", fontsize=12, color=\"red\")\n",
    "\n",
    "plt.quiver(0, 0, q1[0], q1[1], color=\"blue\", scale_units=\"xy\", angles=\"xy\", scale=1)\n",
    "plt.text(q1[0], q1[1], \"q1\", fontsize=12, color=\"blue\")\n",
    "\n",
    "plt.quiver(0, 0, b[0], b[1], color=\"red\", scale_units=\"xy\", angles=\"xy\", scale=1)\n",
    "plt.text(b[0], b[1], \"b\", fontsize=12, color=\"red\")\n",
    "\n",
    "plt.quiver(\n",
    "    0,\n",
    "    0,\n",
    "    proj_b_q1[0],\n",
    "    proj_b_q1[1],\n",
    "    color=\"green\",\n",
    "    scale_units=\"xy\",\n",
    "    angles=\"xy\",\n",
    "    scale=1,\n",
    ")\n",
    "plt.text(proj_b_q1[0], proj_b_q1[1] - 1, \"proj(b, q1)\", fontsize=12, color=\"green\")\n",
    "\n",
    "plt.quiver(0, 0, u2[0], u2[1], color=\"purple\", scale_units=\"xy\", angles=\"xy\", scale=1)\n",
    "plt.text(u2[0], u2[1], \"u2\", fontsize=12, color=\"purple\")\n",
    "\n",
    "plt.quiver(0, 0, q2[0], q2[1], color=\"green\", scale_units=\"xy\", angles=\"xy\", scale=1)\n",
    "plt.text(q2[0], q2[1], \"q2\", fontsize=12, color=\"green\")\n",
    "\n",
    "plt.xlim(-1, 5)\n",
    "plt.ylim(-1, 5)\n",
    "plt.grid(True)\n",
    "plt.show()"
   ]
  },
  {
   "cell_type": "code",
   "execution_count": 17,
   "metadata": {},
   "outputs": [],
   "source": [
    "def qr_decompose(mat: list[list[float]]):\n",
    "    # Get the number of rows and columns\n",
    "    m = len(mat)\n",
    "    n = len(mat[0])\n",
    "\n",
    "    # Initialize Q and R matrices\n",
    "    Q = [[0.0 for _ in range(n)] for _ in range(m)]\n",
    "    R = [[0.0 for _ in range(n)] for _ in range(n)]\n",
    "\n",
    "    # Helper to get column k from matrix\n",
    "    def get_col(matrix, k):\n",
    "        return [row[k] for row in matrix]\n",
    "\n",
    "    for k in range(n):\n",
    "        # Start with the current column of mat\n",
    "        u = get_col(mat, k)\n",
    "\n",
    "        # Subtract projections onto previous q vectors\n",
    "        for j in range(k):\n",
    "            q_j = get_col(Q, j)\n",
    "            R[j][k] = dot_product(q_j, get_col(mat, k))\n",
    "            u = subtract(u, [R[j][k] * q_val for q_val in q_j])\n",
    "\n",
    "        # Compute the norm and normalize\n",
    "        R[k][k] = norm(u)\n",
    "        Q_col_k = [val / R[k][k] for val in u]\n",
    "        for i in range(m):\n",
    "            Q[i][k] = Q_col_k[i]\n",
    "\n",
    "    return Q, R"
   ]
  },
  {
   "cell_type": "code",
   "execution_count": 18,
   "metadata": {},
   "outputs": [
    {
     "name": "stdout",
     "output_type": "stream",
     "text": [
      "[[0.31622776601683794, 0.9486832980505138, 0.9544799780350297], [0.9486832980505138, -0.3162277660168383, -0.2982749931359468]]\n",
      "[[3.1622776601683795, 4.427188724235731, 5.692099788303083], [0.0, 0.6324555320336758, 1.2649110640673498], [0.0, 0.0, 1.8610729195778454e-15]]\n"
     ]
    },
    {
     "data": {
      "image/png": "[encoded data removed]",
      "text/plain": [
       "<Figure size 500x500 with 1 Axes>"
      ]
     },
     "metadata": {},
     "output_type": "display_data"
    }
   ],
   "source": [
    "mat = [[1, 2, 3], [3, 4, 5]]\n",
    "\n",
    "Q, R = qr_decompose(mat)\n",
    "print(Q)\n",
    "print(R)\n",
    "\n",
    "plt.figure(figsize=(5, 5))\n",
    "# plot mat\n",
    "plt.quiver(\n",
    "    0,\n",
    "    0,\n",
    "    mat[0][0],\n",
    "    mat[1][0],\n",
    "    angles=\"xy\",\n",
    "    scale_units=\"xy\",\n",
    "    scale=1,\n",
    "    color=\"c\",\n",
    "    label=\"a1\",\n",
    ")\n",
    "plt.quiver(\n",
    "    0,\n",
    "    0,\n",
    "    mat[0][1],\n",
    "    mat[1][1],\n",
    "    angles=\"xy\",\n",
    "    scale_units=\"xy\",\n",
    "    scale=1,\n",
    "    color=\"m\",\n",
    "    label=\"a2\",\n",
    ")\n",
    "plt.quiver(\n",
    "    0,\n",
    "    0,\n",
    "    mat[0][2],\n",
    "    mat[1][2],\n",
    "    angles=\"xy\",\n",
    "    scale_units=\"xy\",\n",
    "    scale=1,\n",
    "    color=\"purple\",\n",
    "    label=\"a3\",\n",
    ")\n",
    "\n",
    "# Plot the Q vectors\n",
    "plt.quiver(\n",
    "    0,\n",
    "    0,\n",
    "    Q[0][0],\n",
    "    Q[1][0],\n",
    "    angles=\"xy\",\n",
    "    scale_units=\"xy\",\n",
    "    scale=1,\n",
    "    color=\"b\",\n",
    "    label=\"q1\",\n",
    ")\n",
    "plt.quiver(\n",
    "    0,\n",
    "    0,\n",
    "    Q[0][1],\n",
    "    Q[1][1],\n",
    "    angles=\"xy\",\n",
    "    scale_units=\"xy\",\n",
    "    scale=1,\n",
    "    color=\"r\",\n",
    "    label=\"q2\",\n",
    ")\n",
    "plt.quiver(\n",
    "    0,\n",
    "    0,\n",
    "    Q[0][2],\n",
    "    Q[1][2],\n",
    "    angles=\"xy\",\n",
    "    scale_units=\"xy\",\n",
    "    scale=1,\n",
    "    color=\"g\",\n",
    "    label=\"q3\",\n",
    ")\n",
    "# Plot the R vectors\n",
    "plt.quiver(\n",
    "    0,\n",
    "    0,\n",
    "    R[0][0],\n",
    "    R[1][0],\n",
    "    angles=\"xy\",\n",
    "    scale_units=\"xy\",\n",
    "    scale=1,\n",
    "    color=\"g\",\n",
    "    label=\"r1\",\n",
    ")\n",
    "plt.quiver(\n",
    "    0,\n",
    "    0,\n",
    "    R[0][1],\n",
    "    R[1][1],\n",
    "    angles=\"xy\",\n",
    "    scale_units=\"xy\",\n",
    "    scale=1,\n",
    "    color=\"y\",\n",
    "    label=\"r2\",\n",
    ")\n",
    "plt.quiver(\n",
    "    0,\n",
    "    0,\n",
    "    R[0][2],\n",
    "    R[1][2],\n",
    "    angles=\"xy\",\n",
    "    scale_units=\"xy\",\n",
    "    scale=1,\n",
    "    color=\"purple\",\n",
    "    label=\"r3\",\n",
    ")\n",
    "plt.xlim(-1, 5)\n",
    "plt.ylim(-1, 5)\n",
    "plt.grid(True)\n",
    "plt.legend()\n",
    "plt.show()"
   ]
  },
  {
   "cell_type": "code",
   "execution_count": 21,
   "metadata": {},
   "outputs": [
    {
     "name": "stdout",
     "output_type": "stream",
     "text": [
      "0.025368153802923787\n",
      "0.0\n"
     ]
    }
   ],
   "source": [
    "def cosine_distance(u: list[float], v: list[float]):\n",
    "    return 1 - sum(u[i] * v[i] for i in range(len(u))) / (\n",
    "        math.sqrt(sum(u[i] * u[i] for i in range(len(u))))\n",
    "        * math.sqrt(sum(v[i] * v[i] for i in range(len(v))))\n",
    "    )\n",
    "\n",
    "\n",
    "print(cosine_distance([1, 2, 3], [4, 5, 6]))\n",
    "print(cosine_distance([1, 2, 3], [1, 2, 3]))"
   ]
  },
  {
   "cell_type": "code",
   "execution_count": 26,
   "metadata": {},
   "outputs": [
    {
     "ename": "TypeError",
     "evalue": "can't multiply sequence by non-int of type 'list'",
     "output_type": "error",
     "traceback": [
      "\u001b[31m---------------------------------------------------------------------------\u001b[39m",
      "\u001b[31mTypeError\u001b[39m                                 Traceback (most recent call last)",
      "\u001b[36mCell\u001b[39m\u001b[36m \u001b[39m\u001b[32mIn[26]\u001b[39m\u001b[32m, line 8\u001b[39m\n\u001b[32m      1\u001b[39m Q, R = qr_decompose(\n\u001b[32m      2\u001b[39m     [\n\u001b[32m      3\u001b[39m         get_embedding(\u001b[33m\"\u001b[39m\u001b[33mI am Happy!\u001b[39m\u001b[33m\"\u001b[39m),\n\u001b[32m      4\u001b[39m         get_embedding(\u001b[33m\"\u001b[39m\u001b[33mHappy\u001b[39m\u001b[33m\"\u001b[39m),\n\u001b[32m      5\u001b[39m     ],\n\u001b[32m      6\u001b[39m )\n\u001b[32m----> \u001b[39m\u001b[32m8\u001b[39m P = \u001b[43mmultiply\u001b[49m\u001b[43m(\u001b[49m\u001b[43mQ\u001b[49m\u001b[43m,\u001b[49m\u001b[43m \u001b[49m\u001b[43mtranspose\u001b[49m\u001b[43m(\u001b[49m\u001b[43mQ\u001b[49m\u001b[43m)\u001b[49m\u001b[43m)\u001b[49m\n",
      "\u001b[36mCell\u001b[39m\u001b[36m \u001b[39m\u001b[32mIn[25]\u001b[39m\u001b[32m, line 21\u001b[39m, in \u001b[36mmultiply\u001b[39m\u001b[34m(v, u)\u001b[39m\n\u001b[32m     20\u001b[39m \u001b[38;5;28;01mdef\u001b[39;00m\u001b[38;5;250m \u001b[39m\u001b[34mmultiply\u001b[39m(v: \u001b[38;5;28mlist\u001b[39m[\u001b[38;5;28mfloat\u001b[39m], u: \u001b[38;5;28mlist\u001b[39m[\u001b[38;5;28mfloat\u001b[39m]) -> \u001b[38;5;28mlist\u001b[39m[\u001b[38;5;28mfloat\u001b[39m]:\n\u001b[32m---> \u001b[39m\u001b[32m21\u001b[39m     \u001b[38;5;28;01mreturn\u001b[39;00m [\u001b[43mv\u001b[49m\u001b[43m[\u001b[49m\u001b[43mi\u001b[49m\u001b[43m]\u001b[49m\u001b[43m \u001b[49m\u001b[43m*\u001b[49m\u001b[43m \u001b[49m\u001b[43mu\u001b[49m\u001b[43m[\u001b[49m\u001b[43mi\u001b[49m\u001b[43m]\u001b[49m \u001b[38;5;28;01mfor\u001b[39;00m i \u001b[38;5;129;01min\u001b[39;00m \u001b[38;5;28mrange\u001b[39m(\u001b[38;5;28mlen\u001b[39m(v))]\n",
      "\u001b[31mTypeError\u001b[39m: can't multiply sequence by non-int of type 'list'"
     ]
    }
   ],
   "source": [
    "Q, R = qr_decompose(\n",
    "    [\n",
    "        get_embedding(\"I am Happy!\"),\n",
    "        get_embedding(\"Happy\"),\n",
    "    ],\n",
    ")\n",
    "\n",
    "P = multiply(Q, transpose(Q))"
   ]
  },
  {
   "cell_type": "code",
   "execution_count": 38,
   "metadata": {},
   "outputs": [
    {
     "data": {
      "text/plain": [
       "[[14, 32], [32, 77]]"
      ]
     },
     "execution_count": 38,
     "metadata": {},
     "output_type": "execute_result"
    }
   ],
   "source": [
    "P = multiply([[1, 2, 3], [4, 5, 6]], transpose([[1, 2, 3], [4, 5, 6]]))"
   ]
  }
 ],
 "metadata": {
  "kernelspec": {
   "display_name": ".venv",
   "language": "python",
   "name": "python3"
  },
  "language_info": {
   "codemirror_mode": {
    "name": "ipython",
    "version": 3
   },
   "file_extension": ".py",
   "mimetype": "text/x-python",
   "name": "python",
   "nbconvert_exporter": "python",
   "pygments_lexer": "ipython3",
   "version": "3.12.1"
  }
 },
 "nbformat": 4,
 "nbformat_minor": 2
}
