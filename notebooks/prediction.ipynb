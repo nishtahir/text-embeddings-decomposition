{
 "cells": [
  {
   "cell_type": "code",
   "execution_count": 1,
   "metadata": {},
   "outputs": [],
   "source": [
    "from qr_decomposition.sentiment.inference import predict as predict_sentiment\n",
    "from qr_decomposition.wikidata.inference import predict as predict_toxicity"
   ]
  },
  {
   "cell_type": "code",
   "execution_count": 2,
   "metadata": {},
   "outputs": [
    {
     "data": {
      "text/plain": [
       "[{'negative': 6.740017852280289e-05, 'positive': 0.9999326467514038}]"
      ]
     },
     "execution_count": 2,
     "metadata": {},
     "output_type": "execute_result"
    }
   ],
   "source": [
    "predict_sentiment(\"I like this product\")"
   ]
  },
  {
   "cell_type": "code",
   "execution_count": 6,
   "metadata": {},
   "outputs": [
    {
     "data": {
      "text/plain": [
       "([{'toxic': 0.000155073736095801,\n",
       "   'severe_toxic': 3.860832098467881e-09,\n",
       "   'obscene': 2.8344586553430418e-06,\n",
       "   'threat': 4.7106294687182526e-07,\n",
       "   'insult': 1.0735819842011551e-06,\n",
       "   'identity_hate': 2.447325186949456e-07}],\n",
       " [{'toxic': 0.9993007183074951,\n",
       "   'severe_toxic': 0.475757360458374,\n",
       "   'obscene': 0.9915348291397095,\n",
       "   'threat': 0.005536479875445366,\n",
       "   'insult': 0.9262893795967102,\n",
       "   'identity_hate': 0.6239383816719055}])"
      ]
     },
     "execution_count": 6,
     "metadata": {},
     "output_type": "execute_result"
    }
   ],
   "source": [
    "predict_toxicity(\"I like this product\"), predict_toxicity(\"HE IS A GHAY FUCKER@@!!\")"
   ]
  }
 ],
 "metadata": {
  "kernelspec": {
   "display_name": ".venv",
   "language": "python",
   "name": "python3"
  },
  "language_info": {
   "codemirror_mode": {
    "name": "ipython",
    "version": 3
   },
   "file_extension": ".py",
   "mimetype": "text/x-python",
   "name": "python",
   "nbconvert_exporter": "python",
   "pygments_lexer": "ipython3",
   "version": "3.12.1"
  }
 },
 "nbformat": 4,
 "nbformat_minor": 2
}
